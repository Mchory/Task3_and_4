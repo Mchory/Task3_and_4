{
  "nbformat": 4,
  "nbformat_minor": 0,
  "metadata": {
    "colab": {
      "provenance": []
    },
    "kernelspec": {
      "name": "python3",
      "display_name": "Python 3"
    },
    "language_info": {
      "name": "python"
    }
  },
  "cells": [
    {
      "cell_type": "code",
      "execution_count": 1,
      "metadata": {
        "id": "WFL1zSLCci5D"
      },
      "outputs": [],
      "source": [
        "def is_comment(line, language):\n",
        "    if language == \"python\":\n",
        "        return line.strip().startswith(\"#\")\n",
        "    elif language == \"java\":\n",
        "        return line.strip().startswith(\"//\") or line.strip().startswith(\"/*\") or line.strip().endswith(\"*/\")"
      ]
    },
    {
      "cell_type": "code",
      "source": [
        "def identify_comments(code, language):\n",
        "    lines = code.split('\\n')\n",
        "    comments = []\n",
        "\n",
        "    for line in lines:\n",
        "        if is_comment(line, language):\n",
        "            comments.append(line)\n",
        "\n",
        "    return comments\n"
      ],
      "metadata": {
        "id": "55IZ5iz6cwH1"
      },
      "execution_count": 2,
      "outputs": []
    },
    {
      "cell_type": "code",
      "source": [
        "python_code = '''\n",
        "# This is a Python comment\n",
        "print(\"Hello, World!\")\n",
        "#Is this a python comment?\n",
        "print(\"This is not a comment\")\n",
        "# Another comment\n",
        "'''"
      ],
      "metadata": {
        "id": "ExUnJKYQc-r7"
      },
      "execution_count": 9,
      "outputs": []
    },
    {
      "cell_type": "code",
      "source": [
        "java_code = '''\n",
        "// This is a Java comment\n",
        "System.out.println(\"Hello, World!\");\n",
        "/* Multi-line\n",
        "   comment */\n",
        "'''"
      ],
      "metadata": {
        "id": "uw33gavKdIUK"
      },
      "execution_count": 6,
      "outputs": []
    },
    {
      "cell_type": "code",
      "source": [
        "python_comments = identify_comments(python_code, \"python\")\n",
        "print(\"Python comments:\")\n",
        "for comment in python_comments:\n",
        "    print(comment)"
      ],
      "metadata": {
        "colab": {
          "base_uri": "https://localhost:8080/"
        },
        "id": "DcNVQZZRc2Mz",
        "outputId": "5813c078-d4a6-41da-d532-2d1772a5dbd5"
      },
      "execution_count": 8,
      "outputs": [
        {
          "output_type": "stream",
          "name": "stdout",
          "text": [
            "Python comments:\n",
            "# This is a Python comment\n",
            "#Is this a python comment\n",
            "# Another comment\n"
          ]
        }
      ]
    },
    {
      "cell_type": "code",
      "source": [
        "# Identify comments in Java code\n",
        "java_comments = identify_comments(java_code, \"java\")\n",
        "print(\"\\nJava comments:\")\n",
        "for comment in java_comments:\n",
        "    print(comment)"
      ],
      "metadata": {
        "colab": {
          "base_uri": "https://localhost:8080/"
        },
        "id": "BmW5JqBwgLNv",
        "outputId": "e1ba7d6f-4728-4075-e21f-24eb2ff301ea"
      },
      "execution_count": 13,
      "outputs": [
        {
          "output_type": "stream",
          "name": "stdout",
          "text": [
            "\n",
            "Java comments:\n",
            "// This is a Java comment\n",
            "/* Multi-line\n",
            "   comment */\n"
          ]
        }
      ]
    },
    {
      "cell_type": "markdown",
      "source": [
        "Further to this task:\n",
        "i. Describe the logic used\n",
        "the program is  designed to identify comments in a given programming language by checking each line of code for comment indicators specific to that language. here is a break down the key components:\n",
        "1.is_comment(line, language) function:\n",
        "\n",
        "This function takes two arguments: line (a string representing a line of code) and language (a string indicating the programming language being used).\n",
        "It contains a series of if statements to handle different programming languages. For now, it has support for Python and Java, but you can extend it for other languages by adding more elif branches.\n",
        "Within each branch, it checks whether the line starts with the appropriate comment indicator for that language. For example, in Python, it checks if the line starts with #, which is the Python comment indicator.\n",
        "If the condition is met, it returns True to indicate that the line is a comment. Otherwise, it returns False.\n",
        "\n",
        "2.identify_comments(code, language) function:\n",
        "This function takes two arguments: code (a string containing the entire code) and language (a string indicating the programming language being used).\n",
        "It first splits the code into individual lines using the split('\\n') method.\n",
        "It initializes an empty list called comments to store the identified comments.\n",
        "It iterates through each line of code using a for loop.\n",
        "For each line, it calls the is_comment function to check if it's a comment or not.\n",
        "If is_comment returns True, it means the line is a comment, so it appends it to the comments list."
      ],
      "metadata": {
        "id": "cydtauvAgstl"
      }
    },
    {
      "cell_type": "markdown",
      "source": [
        "ii. Was lexical analysis or/and syntax analysis concepts important in your\n",
        "logic? If yes, how?\n",
        "Lexical Analysis:\n",
        "\n",
        "1.Lexical analysis, also known as tokenization, is the process of breaking a source code into a sequence of tokens. Tokens are meaningful chunks like keywords, operators, identifiers, and literals.\n",
        "\n",
        "In the provided logic, lexical analysis is not explicitly implemented. However, it is indirectly relevant in the is_comment function. Each line of code is treated as a whole string, and the function checks the beginning of the string for specific patterns that indicate comments.\n",
        "\n",
        "For example, in the Python case, it looks for lines starting with #, which is a token indicative of a comment in Python. Similarly, in Java, it checks for patterns like //, /*, and */.\n",
        "\n",
        "While the concept of lexical analysis is not explicitly implemented, the logic relies on the understanding of comment indicators as distinct tokens.\n",
        "\n",
        "2.Syntax Analysis:\n",
        "\n",
        "Syntax analysis, also known as parsing, is the process of analyzing the grammar structure of a source code to determine its syntactic correctness. It involves constructing a parse tree or an abstract syntax tree (AST).\n",
        "\n",
        "In the provided logic, syntax analysis is not explicitly implemented. It does not construct parse trees or perform deep syntactic analysis. It primarily works with individual lines of code and relies on simple pattern matching to determine comments.\n",
        "\n",
        "However, if you were building a more comprehensive code analyzer or compiler, you would need to implement syntax analysis to ensure the correctness and structure of the entire program."
      ],
      "metadata": {
        "id": "vkIqABUghe-C"
      }
    }
  ]
}