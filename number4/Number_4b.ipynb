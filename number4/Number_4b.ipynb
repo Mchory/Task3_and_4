{
  "nbformat": 4,
  "nbformat_minor": 0,
  "metadata": {
    "colab": {
      "provenance": []
    },
    "kernelspec": {
      "name": "python3",
      "display_name": "Python 3"
    },
    "language_info": {
      "name": "python"
    }
  },
  "cells": [
    {
      "cell_type": "code",
      "execution_count": 16,
      "metadata": {
        "id": "JXHEOdTCuuv3"
      },
      "outputs": [],
      "source": [
        "def parse_expression(tokens):\n",
        "    precedence = {'+':1, '-':1, '*':2, '/':2}\n",
        "    operators = []\n",
        "    operands = []\n",
        "    def apply_operator():\n",
        "        operator = operators.pop()\n",
        "        right = operands.pop()\n",
        "        left = operands.pop()\n",
        "        if operator == '+':\n",
        "            result = left + right\n",
        "        elif operator == '-':\n",
        "            result = left - right\n",
        "        elif operator == '*':\n",
        "            result = left * right\n",
        "        elif operator == '/':\n",
        "            result = left / right\n",
        "        operands.append(result)\n",
        "        def apply_operator():\n",
        "          operator = operators.pop()\n",
        "          right = operands.pop()\n",
        "          left = operands.pop()\n",
        "          if operator == '+':\n",
        "            result = left + right\n",
        "          elif operator == '-':\n",
        "            result = left - right\n",
        "          elif operator == '*':\n",
        "            result = left * right\n",
        "          elif operator == '/':\n",
        "            result = left / right\n",
        "          operands.append(result)\n",
        "\n",
        "        for token in tokens:\n",
        "          if token.isdigit():\n",
        "            operands.append(int(token))\n",
        "          elif token in precedence:\n",
        "            while (operators and precedence[operators[-1]] >= precedence[token]):\n",
        "                apply_operator()\n",
        "            operators.append(token)\n",
        "          elif token == '(':\n",
        "            operators.append(token)\n",
        "          elif token == ')':\n",
        "            while operators[-1] != '(':\n",
        "                apply_operator()\n",
        "            operators.pop()\n",
        "        while operators:\n",
        "          apply_operator()\n",
        "\n",
        "          return operands[0]\n",
        "    expression = \"2 + 3 * (4 - 1)\"\n",
        "    tokens = expression.replace('(', ' ( ').replace(')', ' ) ').split()\n",
        "    result = parse_expression(tokens)\n",
        "    print(f\"Result: {result}\")"
      ]
    }
  ]
}