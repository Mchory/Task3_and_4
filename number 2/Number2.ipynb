{
  "nbformat": 4,
  "nbformat_minor": 0,
  "metadata": {
    "colab": {
      "provenance": []
    },
    "kernelspec": {
      "name": "python3",
      "display_name": "Python 3"
    },
    "language_info": {
      "name": "python"
    }
  },
  "cells": [
    {
      "cell_type": "code",
      "execution_count": null,
      "metadata": {
        "id": "AKTT3oZDh-Wt"
      },
      "outputs": [],
      "source": [
        "import re"
      ]
    },
    {
      "cell_type": "code",
      "source": [
        "def is_valid_identifier(identifier, language):\n",
        "    if language == \"python\":\n",
        "        # Python identifiers must start with a letter or an underscore, followed by letters, digits, or underscores.\n",
        "        return re.match(r'^[a-zA-Z_]\\w*$', identifier) is not None\n",
        "    elif language == \"java\":\n",
        "        # Java identifiers must start with a letter, followed by letters, digits, or underscores.\n",
        "        return re.match(r'^[a-zA-Z]\\w*$', identifier) is not None\n",
        "    # Add more cases for other languages as needed"
      ],
      "metadata": {
        "id": "qnfhJ2oiiHUO"
      },
      "execution_count": null,
      "outputs": []
    },
    {
      "cell_type": "code",
      "source": [
        "# Example usage:\n",
        "python_identifier = \"my_variable\"\n",
        "java_identifier = \"myVariable\""
      ],
      "metadata": {
        "id": "YJsFidX2iNFw"
      },
      "execution_count": null,
      "outputs": []
    },
    {
      "cell_type": "code",
      "source": [
        "# Test Python identifier\n",
        "is_python_valid = is_valid_identifier(python_identifier, \"python\")\n",
        "print(f\"The Python identifier '{python_identifier}' is {'valid' if is_python_valid else 'invalid'}.\")"
      ],
      "metadata": {
        "colab": {
          "base_uri": "https://localhost:8080/"
        },
        "id": "8IOkmvqgiRT5",
        "outputId": "983f3493-78ab-4c5a-bb25-adbdbf97df18"
      },
      "execution_count": null,
      "outputs": [
        {
          "output_type": "stream",
          "name": "stdout",
          "text": [
            "The Python identifier 'my_variable' is valid.\n"
          ]
        }
      ]
    },
    {
      "cell_type": "code",
      "source": [
        "# Test Java identifier\n",
        "is_java_valid = is_valid_identifier(java_identifier, \"java\")\n",
        "print(f\"The Java identifier '{java_identifier}' is {'valid' if is_java_valid else 'invalid'}.\")"
      ],
      "metadata": {
        "colab": {
          "base_uri": "https://localhost:8080/"
        },
        "id": "k59J0e_ziZp7",
        "outputId": "1c338d26-7ca3-4680-d513-1872fa582dc4"
      },
      "execution_count": null,
      "outputs": [
        {
          "output_type": "stream",
          "name": "stdout",
          "text": [
            "The Java identifier 'myVariable' is valid.\n"
          ]
        }
      ]
    }
  ]
}